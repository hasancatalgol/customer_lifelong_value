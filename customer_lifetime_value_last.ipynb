{
  "cells": [
    {
      "cell_type": "markdown",
      "id": "304ed13a",
      "metadata": {
        "id": "304ed13a"
      },
      "source": [
        "# Customer Lifetime Value\n",
        "All of the images are taken in this [post](https://blog.hubspot.com/service/how-to-calculate-customer-lifetime-value). Read the article to understand CLTV to understand deeply.\n",
        "\n",
        "## Overview\n",
        "Customer lifetime value (CLV) is a measure of the average customer's revenue generated over their entire relationship with a company. Comparing CLV to customer acquisition cost is a quick method of estimating a customer's profitability and the business's potential for long-term growth.\n",
        "\n",
        "\n",
        "### Goal: \n",
        "This time the goal is to segment existing customers according to CLTV metric.\n",
        "\n",
        "----\n",
        "\n",
        "## Part One: Understanding the Background and Data\n",
        "\n",
        "Dataset named Online Retail II UK based online store Between 01/12/2009 - 09/12/2011 includes sales. Souvenirs in the product catalog of this company items are included. As promotional items can also be considered.It is also known that most of its customers are wholesalers available.\n",
        "\n",
        "https://archive.ics.uci.edu/ml/datasets/Online+Retail+II"
      ]
    },
    {
      "cell_type": "markdown",
      "id": "dacee55f",
      "metadata": {
        "id": "dacee55f"
      },
      "source": [
        "----\n",
        "\n",
        "\n",
        "### The Data\n",
        "\n",
        "\n",
        "\n",
        "#### online_retail_II.xlsx"
      ]
    },
    {
      "cell_type": "markdown",
      "id": "31787eef",
      "metadata": {
        "id": "31787eef"
      },
      "source": [
        "Variable | Definition | Type of Variable\n",
        "--- | ----------- | --------\n",
        "InvoiceNo | Invoice number. 6-digit integral number uniquely assigned to each transaction.  | Nominal\n",
        "          | **If this code starts with letter 'c', it indicates a cancellation.**\n",
        "StockCode | Product (item) code. 5-digit integral number uniquely assigned to each distinct product.| Nominal\n",
        "Description | Product (item) name. | Nominal\n",
        "Quantity | The quantities of each product (item) per transaction. | Numeric\n",
        "InvoiceDate | Invoice Date and time. The day and time when each transaction was generated.| Numeric\n",
        "UnitPrice|  Unit price. Product price per unit in £ (in GBP) |  Numeric\n",
        "CustomerID | Customer number. 5-digit integral number uniquely assigned to each customer.| Nominal\n",
        "Country | Country name. The name of the country where each customer resides. | Nominal"
      ]
    },
    {
      "cell_type": "markdown",
      "id": "56a84011",
      "metadata": {
        "id": "56a84011"
      },
      "source": [
        "-----------\n",
        "**Import libraries**"
      ]
    },
    {
      "cell_type": "code",
      "execution_count": null,
      "id": "902058ad",
      "metadata": {
        "id": "902058ad"
      },
      "outputs": [],
      "source": [
        "import pandas as pd\n",
        "import datetime as dt"
      ]
    },
    {
      "cell_type": "code",
      "execution_count": null,
      "id": "84a77ff9",
      "metadata": {
        "id": "84a77ff9"
      },
      "outputs": [],
      "source": [
        "# Displaying all rows and columns\n",
        "pd.set_option('display.max_columns', None); \n",
        "pd.set_option('display.max_rows', None);\n",
        "\n",
        "# Configuring significant figures\n",
        "pd.set_option('display.float_format', lambda x: '%.2f' % x)"
      ]
    },
    {
      "cell_type": "markdown",
      "id": "f4b3f85b",
      "metadata": {
        "id": "f4b3f85b"
      },
      "source": [
        "**Read \"online_retail_II.xlsx\" file**"
      ]
    },
    {
      "cell_type": "code",
      "execution_count": null,
      "id": "51e81734",
      "metadata": {
        "id": "51e81734"
      },
      "outputs": [],
      "source": [
        "#Uncomment below to work on Local Jupyter Notebook\n",
        "#df_ = pd.read_excel(\"Data/online_retail_II.xlsx\", sheet_name=\"Year 2010-2011\")\n",
        "df_ = pd.read_excel(\"https://github.com/hasancatalgol/customer_lifetime_value/raw/main/Data/online_retail_II.xlsx\", sheet_name=\"Year 2010-2011\")\n",
        "df = df_.copy()"
      ]
    },
    {
      "cell_type": "code",
      "execution_count": null,
      "id": "4db326e5",
      "metadata": {
        "colab": {
          "base_uri": "https://localhost:8080/",
          "height": 206
        },
        "id": "4db326e5",
        "outputId": "4fb344ab-15af-4762-eacc-f6ab2f73da1b"
      },
      "outputs": [
        {
          "output_type": "execute_result",
          "data": {
            "text/plain": [
              "  Invoice StockCode                          Description  Quantity  \\\n",
              "0  536365    85123A   WHITE HANGING HEART T-LIGHT HOLDER         6   \n",
              "1  536365     71053                  WHITE METAL LANTERN         6   \n",
              "2  536365    84406B       CREAM CUPID HEARTS COAT HANGER         8   \n",
              "3  536365    84029G  KNITTED UNION FLAG HOT WATER BOTTLE         6   \n",
              "4  536365    84029E       RED WOOLLY HOTTIE WHITE HEART.         6   \n",
              "\n",
              "          InvoiceDate  Price  Customer ID         Country  \n",
              "0 2010-12-01 08:26:00   2.55     17850.00  United Kingdom  \n",
              "1 2010-12-01 08:26:00   3.39     17850.00  United Kingdom  \n",
              "2 2010-12-01 08:26:00   2.75     17850.00  United Kingdom  \n",
              "3 2010-12-01 08:26:00   3.39     17850.00  United Kingdom  \n",
              "4 2010-12-01 08:26:00   3.39     17850.00  United Kingdom  "
            ],
            "text/html": [
              "\n",
              "  <div id=\"df-a98e23ce-63e8-493e-9d2a-6b60291f7bd9\">\n",
              "    <div class=\"colab-df-container\">\n",
              "      <div>\n",
              "<style scoped>\n",
              "    .dataframe tbody tr th:only-of-type {\n",
              "        vertical-align: middle;\n",
              "    }\n",
              "\n",
              "    .dataframe tbody tr th {\n",
              "        vertical-align: top;\n",
              "    }\n",
              "\n",
              "    .dataframe thead th {\n",
              "        text-align: right;\n",
              "    }\n",
              "</style>\n",
              "<table border=\"1\" class=\"dataframe\">\n",
              "  <thead>\n",
              "    <tr style=\"text-align: right;\">\n",
              "      <th></th>\n",
              "      <th>Invoice</th>\n",
              "      <th>StockCode</th>\n",
              "      <th>Description</th>\n",
              "      <th>Quantity</th>\n",
              "      <th>InvoiceDate</th>\n",
              "      <th>Price</th>\n",
              "      <th>Customer ID</th>\n",
              "      <th>Country</th>\n",
              "    </tr>\n",
              "  </thead>\n",
              "  <tbody>\n",
              "    <tr>\n",
              "      <th>0</th>\n",
              "      <td>536365</td>\n",
              "      <td>85123A</td>\n",
              "      <td>WHITE HANGING HEART T-LIGHT HOLDER</td>\n",
              "      <td>6</td>\n",
              "      <td>2010-12-01 08:26:00</td>\n",
              "      <td>2.55</td>\n",
              "      <td>17850.00</td>\n",
              "      <td>United Kingdom</td>\n",
              "    </tr>\n",
              "    <tr>\n",
              "      <th>1</th>\n",
              "      <td>536365</td>\n",
              "      <td>71053</td>\n",
              "      <td>WHITE METAL LANTERN</td>\n",
              "      <td>6</td>\n",
              "      <td>2010-12-01 08:26:00</td>\n",
              "      <td>3.39</td>\n",
              "      <td>17850.00</td>\n",
              "      <td>United Kingdom</td>\n",
              "    </tr>\n",
              "    <tr>\n",
              "      <th>2</th>\n",
              "      <td>536365</td>\n",
              "      <td>84406B</td>\n",
              "      <td>CREAM CUPID HEARTS COAT HANGER</td>\n",
              "      <td>8</td>\n",
              "      <td>2010-12-01 08:26:00</td>\n",
              "      <td>2.75</td>\n",
              "      <td>17850.00</td>\n",
              "      <td>United Kingdom</td>\n",
              "    </tr>\n",
              "    <tr>\n",
              "      <th>3</th>\n",
              "      <td>536365</td>\n",
              "      <td>84029G</td>\n",
              "      <td>KNITTED UNION FLAG HOT WATER BOTTLE</td>\n",
              "      <td>6</td>\n",
              "      <td>2010-12-01 08:26:00</td>\n",
              "      <td>3.39</td>\n",
              "      <td>17850.00</td>\n",
              "      <td>United Kingdom</td>\n",
              "    </tr>\n",
              "    <tr>\n",
              "      <th>4</th>\n",
              "      <td>536365</td>\n",
              "      <td>84029E</td>\n",
              "      <td>RED WOOLLY HOTTIE WHITE HEART.</td>\n",
              "      <td>6</td>\n",
              "      <td>2010-12-01 08:26:00</td>\n",
              "      <td>3.39</td>\n",
              "      <td>17850.00</td>\n",
              "      <td>United Kingdom</td>\n",
              "    </tr>\n",
              "  </tbody>\n",
              "</table>\n",
              "</div>\n",
              "      <button class=\"colab-df-convert\" onclick=\"convertToInteractive('df-a98e23ce-63e8-493e-9d2a-6b60291f7bd9')\"\n",
              "              title=\"Convert this dataframe to an interactive table.\"\n",
              "              style=\"display:none;\">\n",
              "        \n",
              "  <svg xmlns=\"http://www.w3.org/2000/svg\" height=\"24px\"viewBox=\"0 0 24 24\"\n",
              "       width=\"24px\">\n",
              "    <path d=\"M0 0h24v24H0V0z\" fill=\"none\"/>\n",
              "    <path d=\"M18.56 5.44l.94 2.06.94-2.06 2.06-.94-2.06-.94-.94-2.06-.94 2.06-2.06.94zm-11 1L8.5 8.5l.94-2.06 2.06-.94-2.06-.94L8.5 2.5l-.94 2.06-2.06.94zm10 10l.94 2.06.94-2.06 2.06-.94-2.06-.94-.94-2.06-.94 2.06-2.06.94z\"/><path d=\"M17.41 7.96l-1.37-1.37c-.4-.4-.92-.59-1.43-.59-.52 0-1.04.2-1.43.59L10.3 9.45l-7.72 7.72c-.78.78-.78 2.05 0 2.83L4 21.41c.39.39.9.59 1.41.59.51 0 1.02-.2 1.41-.59l7.78-7.78 2.81-2.81c.8-.78.8-2.07 0-2.86zM5.41 20L4 18.59l7.72-7.72 1.47 1.35L5.41 20z\"/>\n",
              "  </svg>\n",
              "      </button>\n",
              "      \n",
              "  <style>\n",
              "    .colab-df-container {\n",
              "      display:flex;\n",
              "      flex-wrap:wrap;\n",
              "      gap: 12px;\n",
              "    }\n",
              "\n",
              "    .colab-df-convert {\n",
              "      background-color: #E8F0FE;\n",
              "      border: none;\n",
              "      border-radius: 50%;\n",
              "      cursor: pointer;\n",
              "      display: none;\n",
              "      fill: #1967D2;\n",
              "      height: 32px;\n",
              "      padding: 0 0 0 0;\n",
              "      width: 32px;\n",
              "    }\n",
              "\n",
              "    .colab-df-convert:hover {\n",
              "      background-color: #E2EBFA;\n",
              "      box-shadow: 0px 1px 2px rgba(60, 64, 67, 0.3), 0px 1px 3px 1px rgba(60, 64, 67, 0.15);\n",
              "      fill: #174EA6;\n",
              "    }\n",
              "\n",
              "    [theme=dark] .colab-df-convert {\n",
              "      background-color: #3B4455;\n",
              "      fill: #D2E3FC;\n",
              "    }\n",
              "\n",
              "    [theme=dark] .colab-df-convert:hover {\n",
              "      background-color: #434B5C;\n",
              "      box-shadow: 0px 1px 3px 1px rgba(0, 0, 0, 0.15);\n",
              "      filter: drop-shadow(0px 1px 2px rgba(0, 0, 0, 0.3));\n",
              "      fill: #FFFFFF;\n",
              "    }\n",
              "  </style>\n",
              "\n",
              "      <script>\n",
              "        const buttonEl =\n",
              "          document.querySelector('#df-a98e23ce-63e8-493e-9d2a-6b60291f7bd9 button.colab-df-convert');\n",
              "        buttonEl.style.display =\n",
              "          google.colab.kernel.accessAllowed ? 'block' : 'none';\n",
              "\n",
              "        async function convertToInteractive(key) {\n",
              "          const element = document.querySelector('#df-a98e23ce-63e8-493e-9d2a-6b60291f7bd9');\n",
              "          const dataTable =\n",
              "            await google.colab.kernel.invokeFunction('convertToInteractive',\n",
              "                                                     [key], {});\n",
              "          if (!dataTable) return;\n",
              "\n",
              "          const docLinkHtml = 'Like what you see? Visit the ' +\n",
              "            '<a target=\"_blank\" href=https://colab.research.google.com/notebooks/data_table.ipynb>data table notebook</a>'\n",
              "            + ' to learn more about interactive tables.';\n",
              "          element.innerHTML = '';\n",
              "          dataTable['output_type'] = 'display_data';\n",
              "          await google.colab.output.renderOutput(dataTable, element);\n",
              "          const docLink = document.createElement('div');\n",
              "          docLink.innerHTML = docLinkHtml;\n",
              "          element.appendChild(docLink);\n",
              "        }\n",
              "      </script>\n",
              "    </div>\n",
              "  </div>\n",
              "  "
            ]
          },
          "metadata": {},
          "execution_count": 19
        }
      ],
      "source": [
        "df.head()"
      ]
    },
    {
      "cell_type": "markdown",
      "id": "306f8950",
      "metadata": {
        "id": "306f8950"
      },
      "source": [
        "**Removing cancelled transcations (which are our outliers in the dataset)**"
      ]
    },
    {
      "cell_type": "code",
      "execution_count": null,
      "id": "73a62c0c",
      "metadata": {
        "id": "73a62c0c"
      },
      "outputs": [],
      "source": [
        "df[~df[\"Invoice\"].str.contains(\"C\", na=False)]\n",
        "df = df[df[\"Quantity\"] > 0]\n",
        "df.dropna(inplace=True)"
      ]
    },
    {
      "cell_type": "markdown",
      "id": "1644b35b",
      "metadata": {
        "id": "1644b35b"
      },
      "source": [
        "# Part Two: Calculating CLTV Metrics"
      ]
    },
    {
      "cell_type": "code",
      "execution_count": null,
      "id": "d287b7ed",
      "metadata": {
        "id": "d287b7ed"
      },
      "outputs": [],
      "source": [
        "df[\"TotalPrice\"] = df[\"Quantity\"] * df[\"Price\"]"
      ]
    },
    {
      "cell_type": "code",
      "execution_count": null,
      "id": "70733499",
      "metadata": {
        "colab": {
          "base_uri": "https://localhost:8080/",
          "height": 238
        },
        "id": "70733499",
        "outputId": "9f3e33b5-23a1-42fc-dca4-685893b3a1cf"
      },
      "outputs": [
        {
          "output_type": "execute_result",
          "data": {
            "text/plain": [
              "             total_transaction  total_unit  total_price\n",
              "Customer ID                                            \n",
              "12346.00                     1       74215     77183.60\n",
              "12347.00                   182        2458      4310.00\n",
              "12348.00                    31        2341      1797.24\n",
              "12349.00                    73         631      1757.55\n",
              "12350.00                    17         197       334.40"
            ],
            "text/html": [
              "\n",
              "  <div id=\"df-2ba575e3-dd09-46c4-83e9-964df0a643be\">\n",
              "    <div class=\"colab-df-container\">\n",
              "      <div>\n",
              "<style scoped>\n",
              "    .dataframe tbody tr th:only-of-type {\n",
              "        vertical-align: middle;\n",
              "    }\n",
              "\n",
              "    .dataframe tbody tr th {\n",
              "        vertical-align: top;\n",
              "    }\n",
              "\n",
              "    .dataframe thead th {\n",
              "        text-align: right;\n",
              "    }\n",
              "</style>\n",
              "<table border=\"1\" class=\"dataframe\">\n",
              "  <thead>\n",
              "    <tr style=\"text-align: right;\">\n",
              "      <th></th>\n",
              "      <th>total_transaction</th>\n",
              "      <th>total_unit</th>\n",
              "      <th>total_price</th>\n",
              "    </tr>\n",
              "    <tr>\n",
              "      <th>Customer ID</th>\n",
              "      <th></th>\n",
              "      <th></th>\n",
              "      <th></th>\n",
              "    </tr>\n",
              "  </thead>\n",
              "  <tbody>\n",
              "    <tr>\n",
              "      <th>12346.00</th>\n",
              "      <td>1</td>\n",
              "      <td>74215</td>\n",
              "      <td>77183.60</td>\n",
              "    </tr>\n",
              "    <tr>\n",
              "      <th>12347.00</th>\n",
              "      <td>182</td>\n",
              "      <td>2458</td>\n",
              "      <td>4310.00</td>\n",
              "    </tr>\n",
              "    <tr>\n",
              "      <th>12348.00</th>\n",
              "      <td>31</td>\n",
              "      <td>2341</td>\n",
              "      <td>1797.24</td>\n",
              "    </tr>\n",
              "    <tr>\n",
              "      <th>12349.00</th>\n",
              "      <td>73</td>\n",
              "      <td>631</td>\n",
              "      <td>1757.55</td>\n",
              "    </tr>\n",
              "    <tr>\n",
              "      <th>12350.00</th>\n",
              "      <td>17</td>\n",
              "      <td>197</td>\n",
              "      <td>334.40</td>\n",
              "    </tr>\n",
              "  </tbody>\n",
              "</table>\n",
              "</div>\n",
              "      <button class=\"colab-df-convert\" onclick=\"convertToInteractive('df-2ba575e3-dd09-46c4-83e9-964df0a643be')\"\n",
              "              title=\"Convert this dataframe to an interactive table.\"\n",
              "              style=\"display:none;\">\n",
              "        \n",
              "  <svg xmlns=\"http://www.w3.org/2000/svg\" height=\"24px\"viewBox=\"0 0 24 24\"\n",
              "       width=\"24px\">\n",
              "    <path d=\"M0 0h24v24H0V0z\" fill=\"none\"/>\n",
              "    <path d=\"M18.56 5.44l.94 2.06.94-2.06 2.06-.94-2.06-.94-.94-2.06-.94 2.06-2.06.94zm-11 1L8.5 8.5l.94-2.06 2.06-.94-2.06-.94L8.5 2.5l-.94 2.06-2.06.94zm10 10l.94 2.06.94-2.06 2.06-.94-2.06-.94-.94-2.06-.94 2.06-2.06.94z\"/><path d=\"M17.41 7.96l-1.37-1.37c-.4-.4-.92-.59-1.43-.59-.52 0-1.04.2-1.43.59L10.3 9.45l-7.72 7.72c-.78.78-.78 2.05 0 2.83L4 21.41c.39.39.9.59 1.41.59.51 0 1.02-.2 1.41-.59l7.78-7.78 2.81-2.81c.8-.78.8-2.07 0-2.86zM5.41 20L4 18.59l7.72-7.72 1.47 1.35L5.41 20z\"/>\n",
              "  </svg>\n",
              "      </button>\n",
              "      \n",
              "  <style>\n",
              "    .colab-df-container {\n",
              "      display:flex;\n",
              "      flex-wrap:wrap;\n",
              "      gap: 12px;\n",
              "    }\n",
              "\n",
              "    .colab-df-convert {\n",
              "      background-color: #E8F0FE;\n",
              "      border: none;\n",
              "      border-radius: 50%;\n",
              "      cursor: pointer;\n",
              "      display: none;\n",
              "      fill: #1967D2;\n",
              "      height: 32px;\n",
              "      padding: 0 0 0 0;\n",
              "      width: 32px;\n",
              "    }\n",
              "\n",
              "    .colab-df-convert:hover {\n",
              "      background-color: #E2EBFA;\n",
              "      box-shadow: 0px 1px 2px rgba(60, 64, 67, 0.3), 0px 1px 3px 1px rgba(60, 64, 67, 0.15);\n",
              "      fill: #174EA6;\n",
              "    }\n",
              "\n",
              "    [theme=dark] .colab-df-convert {\n",
              "      background-color: #3B4455;\n",
              "      fill: #D2E3FC;\n",
              "    }\n",
              "\n",
              "    [theme=dark] .colab-df-convert:hover {\n",
              "      background-color: #434B5C;\n",
              "      box-shadow: 0px 1px 3px 1px rgba(0, 0, 0, 0.15);\n",
              "      filter: drop-shadow(0px 1px 2px rgba(0, 0, 0, 0.3));\n",
              "      fill: #FFFFFF;\n",
              "    }\n",
              "  </style>\n",
              "\n",
              "      <script>\n",
              "        const buttonEl =\n",
              "          document.querySelector('#df-2ba575e3-dd09-46c4-83e9-964df0a643be button.colab-df-convert');\n",
              "        buttonEl.style.display =\n",
              "          google.colab.kernel.accessAllowed ? 'block' : 'none';\n",
              "\n",
              "        async function convertToInteractive(key) {\n",
              "          const element = document.querySelector('#df-2ba575e3-dd09-46c4-83e9-964df0a643be');\n",
              "          const dataTable =\n",
              "            await google.colab.kernel.invokeFunction('convertToInteractive',\n",
              "                                                     [key], {});\n",
              "          if (!dataTable) return;\n",
              "\n",
              "          const docLinkHtml = 'Like what you see? Visit the ' +\n",
              "            '<a target=\"_blank\" href=https://colab.research.google.com/notebooks/data_table.ipynb>data table notebook</a>'\n",
              "            + ' to learn more about interactive tables.';\n",
              "          element.innerHTML = '';\n",
              "          dataTable['output_type'] = 'display_data';\n",
              "          await google.colab.output.renderOutput(dataTable, element);\n",
              "          const docLink = document.createElement('div');\n",
              "          docLink.innerHTML = docLinkHtml;\n",
              "          element.appendChild(docLink);\n",
              "        }\n",
              "      </script>\n",
              "    </div>\n",
              "  </div>\n",
              "  "
            ]
          },
          "metadata": {},
          "execution_count": 22
        }
      ],
      "source": [
        "df_cltv = df.groupby('Customer ID').agg({'Invoice': lambda x: len(x),\n",
        "                                         'Quantity': lambda x: x.sum(),\n",
        "                                         'TotalPrice': lambda x: x.sum()})\n",
        "df_cltv.columns = ['total_transaction', 'total_unit', 'total_price']\n",
        "df_cltv.head()"
      ]
    },
    {
      "cell_type": "markdown",
      "id": "44864eb0",
      "metadata": {
        "id": "44864eb0"
      },
      "source": [
        "![apv.png](https://raw.githubusercontent.com/hasancatalgol/customer_lifetime_value/main/Pics/apv.png)"
      ]
    },
    {
      "cell_type": "code",
      "execution_count": null,
      "id": "24a9c172",
      "metadata": {
        "id": "24a9c172",
        "outputId": "e4026fbe-df6a-45ff-dcba-08c5adc75744"
      },
      "outputs": [
        {
          "data": {
            "text/html": [
              "<div>\n",
              "<style scoped>\n",
              "    .dataframe tbody tr th:only-of-type {\n",
              "        vertical-align: middle;\n",
              "    }\n",
              "\n",
              "    .dataframe tbody tr th {\n",
              "        vertical-align: top;\n",
              "    }\n",
              "\n",
              "    .dataframe thead th {\n",
              "        text-align: right;\n",
              "    }\n",
              "</style>\n",
              "<table border=\"1\" class=\"dataframe\">\n",
              "  <thead>\n",
              "    <tr style=\"text-align: right;\">\n",
              "      <th></th>\n",
              "      <th>total_transaction</th>\n",
              "      <th>total_unit</th>\n",
              "      <th>total_price</th>\n",
              "      <th>average_order_value</th>\n",
              "    </tr>\n",
              "    <tr>\n",
              "      <th>Customer ID</th>\n",
              "      <th></th>\n",
              "      <th></th>\n",
              "      <th></th>\n",
              "      <th></th>\n",
              "    </tr>\n",
              "  </thead>\n",
              "  <tbody>\n",
              "    <tr>\n",
              "      <th>12346.00</th>\n",
              "      <td>1</td>\n",
              "      <td>74215</td>\n",
              "      <td>77183.60</td>\n",
              "      <td>77183.60</td>\n",
              "    </tr>\n",
              "    <tr>\n",
              "      <th>12347.00</th>\n",
              "      <td>182</td>\n",
              "      <td>2458</td>\n",
              "      <td>4310.00</td>\n",
              "      <td>23.68</td>\n",
              "    </tr>\n",
              "    <tr>\n",
              "      <th>12348.00</th>\n",
              "      <td>31</td>\n",
              "      <td>2341</td>\n",
              "      <td>1797.24</td>\n",
              "      <td>57.98</td>\n",
              "    </tr>\n",
              "    <tr>\n",
              "      <th>12349.00</th>\n",
              "      <td>73</td>\n",
              "      <td>631</td>\n",
              "      <td>1757.55</td>\n",
              "      <td>24.08</td>\n",
              "    </tr>\n",
              "    <tr>\n",
              "      <th>12350.00</th>\n",
              "      <td>17</td>\n",
              "      <td>197</td>\n",
              "      <td>334.40</td>\n",
              "      <td>19.67</td>\n",
              "    </tr>\n",
              "  </tbody>\n",
              "</table>\n",
              "</div>"
            ],
            "text/plain": [
              "             total_transaction  total_unit  total_price  average_order_value\n",
              "Customer ID                                                                 \n",
              "12346.00                     1       74215     77183.60             77183.60\n",
              "12347.00                   182        2458      4310.00                23.68\n",
              "12348.00                    31        2341      1797.24                57.98\n",
              "12349.00                    73         631      1757.55                24.08\n",
              "12350.00                    17         197       334.40                19.67"
            ]
          },
          "execution_count": 9,
          "metadata": {},
          "output_type": "execute_result"
        }
      ],
      "source": [
        "df_cltv[\"average_order_value\"] = df_cltv[\"total_price\"] / df_cltv[\"total_transaction\"]\n",
        "df_cltv.head()"
      ]
    },
    {
      "cell_type": "markdown",
      "id": "cc01986e",
      "metadata": {
        "id": "cc01986e"
      },
      "source": [
        "# Number of Unique Customers"
      ]
    },
    {
      "cell_type": "code",
      "execution_count": null,
      "id": "e2fd8330",
      "metadata": {
        "id": "e2fd8330",
        "outputId": "31ac65d3-8c87-4dea-8b2a-75e9165646f5"
      },
      "outputs": [
        {
          "data": {
            "text/plain": [
              "4339"
            ]
          },
          "execution_count": 10,
          "metadata": {},
          "output_type": "execute_result"
        }
      ],
      "source": [
        "df_cltv.shape[0]"
      ]
    },
    {
      "cell_type": "markdown",
      "id": "8ea66dcb",
      "metadata": {
        "id": "8ea66dcb"
      },
      "source": [
        "![apfr.png](https://raw.githubusercontent.com/hasancatalgol/customer_lifetime_value/main/Pics/apfr.png)"
      ]
    },
    {
      "cell_type": "code",
      "execution_count": null,
      "id": "9317affe",
      "metadata": {
        "id": "9317affe",
        "outputId": "d7e90666-a50f-417e-99a3-4e773b9b5471"
      },
      "outputs": [
        {
          "data": {
            "text/html": [
              "<div>\n",
              "<style scoped>\n",
              "    .dataframe tbody tr th:only-of-type {\n",
              "        vertical-align: middle;\n",
              "    }\n",
              "\n",
              "    .dataframe tbody tr th {\n",
              "        vertical-align: top;\n",
              "    }\n",
              "\n",
              "    .dataframe thead th {\n",
              "        text-align: right;\n",
              "    }\n",
              "</style>\n",
              "<table border=\"1\" class=\"dataframe\">\n",
              "  <thead>\n",
              "    <tr style=\"text-align: right;\">\n",
              "      <th></th>\n",
              "      <th>total_transaction</th>\n",
              "      <th>total_unit</th>\n",
              "      <th>total_price</th>\n",
              "      <th>average_order_value</th>\n",
              "      <th>purchase_frequency</th>\n",
              "    </tr>\n",
              "    <tr>\n",
              "      <th>Customer ID</th>\n",
              "      <th></th>\n",
              "      <th></th>\n",
              "      <th></th>\n",
              "      <th></th>\n",
              "      <th></th>\n",
              "    </tr>\n",
              "  </thead>\n",
              "  <tbody>\n",
              "    <tr>\n",
              "      <th>12346.00</th>\n",
              "      <td>1</td>\n",
              "      <td>74215</td>\n",
              "      <td>77183.60</td>\n",
              "      <td>77183.60</td>\n",
              "      <td>0.00</td>\n",
              "    </tr>\n",
              "    <tr>\n",
              "      <th>12347.00</th>\n",
              "      <td>182</td>\n",
              "      <td>2458</td>\n",
              "      <td>4310.00</td>\n",
              "      <td>23.68</td>\n",
              "      <td>0.04</td>\n",
              "    </tr>\n",
              "    <tr>\n",
              "      <th>12348.00</th>\n",
              "      <td>31</td>\n",
              "      <td>2341</td>\n",
              "      <td>1797.24</td>\n",
              "      <td>57.98</td>\n",
              "      <td>0.01</td>\n",
              "    </tr>\n",
              "    <tr>\n",
              "      <th>12349.00</th>\n",
              "      <td>73</td>\n",
              "      <td>631</td>\n",
              "      <td>1757.55</td>\n",
              "      <td>24.08</td>\n",
              "      <td>0.02</td>\n",
              "    </tr>\n",
              "    <tr>\n",
              "      <th>12350.00</th>\n",
              "      <td>17</td>\n",
              "      <td>197</td>\n",
              "      <td>334.40</td>\n",
              "      <td>19.67</td>\n",
              "      <td>0.00</td>\n",
              "    </tr>\n",
              "  </tbody>\n",
              "</table>\n",
              "</div>"
            ],
            "text/plain": [
              "             total_transaction  total_unit  total_price  average_order_value  \\\n",
              "Customer ID                                                                    \n",
              "12346.00                     1       74215     77183.60             77183.60   \n",
              "12347.00                   182        2458      4310.00                23.68   \n",
              "12348.00                    31        2341      1797.24                57.98   \n",
              "12349.00                    73         631      1757.55                24.08   \n",
              "12350.00                    17         197       334.40                19.67   \n",
              "\n",
              "             purchase_frequency  \n",
              "Customer ID                      \n",
              "12346.00                   0.00  \n",
              "12347.00                   0.04  \n",
              "12348.00                   0.01  \n",
              "12349.00                   0.02  \n",
              "12350.00                   0.00  "
            ]
          },
          "execution_count": 11,
          "metadata": {},
          "output_type": "execute_result"
        }
      ],
      "source": [
        "df_cltv[\"purchase_frequency\"] = df_cltv['total_transaction'] / df_cltv.shape[0]\n",
        "df_cltv.head()"
      ]
    },
    {
      "cell_type": "markdown",
      "id": "150a1229",
      "metadata": {
        "id": "150a1229"
      },
      "source": [
        "![cv.png](https://raw.githubusercontent.com/hasancatalgol/customer_lifetime_value/main/Pics/cv.png)"
      ]
    },
    {
      "cell_type": "code",
      "execution_count": null,
      "id": "06a621dd",
      "metadata": {
        "id": "06a621dd",
        "outputId": "e011a7be-11d2-48f1-d4c7-a151f993d5af"
      },
      "outputs": [
        {
          "data": {
            "text/html": [
              "<div>\n",
              "<style scoped>\n",
              "    .dataframe tbody tr th:only-of-type {\n",
              "        vertical-align: middle;\n",
              "    }\n",
              "\n",
              "    .dataframe tbody tr th {\n",
              "        vertical-align: top;\n",
              "    }\n",
              "\n",
              "    .dataframe thead th {\n",
              "        text-align: right;\n",
              "    }\n",
              "</style>\n",
              "<table border=\"1\" class=\"dataframe\">\n",
              "  <thead>\n",
              "    <tr style=\"text-align: right;\">\n",
              "      <th></th>\n",
              "      <th>total_transaction</th>\n",
              "      <th>total_unit</th>\n",
              "      <th>total_price</th>\n",
              "      <th>average_order_value</th>\n",
              "      <th>purchase_frequency</th>\n",
              "      <th>customer_value</th>\n",
              "    </tr>\n",
              "    <tr>\n",
              "      <th>Customer ID</th>\n",
              "      <th></th>\n",
              "      <th></th>\n",
              "      <th></th>\n",
              "      <th></th>\n",
              "      <th></th>\n",
              "      <th></th>\n",
              "    </tr>\n",
              "  </thead>\n",
              "  <tbody>\n",
              "    <tr>\n",
              "      <th>12346.00</th>\n",
              "      <td>1</td>\n",
              "      <td>74215</td>\n",
              "      <td>77183.60</td>\n",
              "      <td>77183.60</td>\n",
              "      <td>0.00</td>\n",
              "      <td>17.79</td>\n",
              "    </tr>\n",
              "    <tr>\n",
              "      <th>12347.00</th>\n",
              "      <td>182</td>\n",
              "      <td>2458</td>\n",
              "      <td>4310.00</td>\n",
              "      <td>23.68</td>\n",
              "      <td>0.04</td>\n",
              "      <td>0.99</td>\n",
              "    </tr>\n",
              "    <tr>\n",
              "      <th>12348.00</th>\n",
              "      <td>31</td>\n",
              "      <td>2341</td>\n",
              "      <td>1797.24</td>\n",
              "      <td>57.98</td>\n",
              "      <td>0.01</td>\n",
              "      <td>0.41</td>\n",
              "    </tr>\n",
              "    <tr>\n",
              "      <th>12349.00</th>\n",
              "      <td>73</td>\n",
              "      <td>631</td>\n",
              "      <td>1757.55</td>\n",
              "      <td>24.08</td>\n",
              "      <td>0.02</td>\n",
              "      <td>0.41</td>\n",
              "    </tr>\n",
              "    <tr>\n",
              "      <th>12350.00</th>\n",
              "      <td>17</td>\n",
              "      <td>197</td>\n",
              "      <td>334.40</td>\n",
              "      <td>19.67</td>\n",
              "      <td>0.00</td>\n",
              "      <td>0.08</td>\n",
              "    </tr>\n",
              "  </tbody>\n",
              "</table>\n",
              "</div>"
            ],
            "text/plain": [
              "             total_transaction  total_unit  total_price  average_order_value  \\\n",
              "Customer ID                                                                    \n",
              "12346.00                     1       74215     77183.60             77183.60   \n",
              "12347.00                   182        2458      4310.00                23.68   \n",
              "12348.00                    31        2341      1797.24                57.98   \n",
              "12349.00                    73         631      1757.55                24.08   \n",
              "12350.00                    17         197       334.40                19.67   \n",
              "\n",
              "             purchase_frequency  customer_value  \n",
              "Customer ID                                      \n",
              "12346.00                   0.00           17.79  \n",
              "12347.00                   0.04            0.99  \n",
              "12348.00                   0.01            0.41  \n",
              "12349.00                   0.02            0.41  \n",
              "12350.00                   0.00            0.08  "
            ]
          },
          "execution_count": 12,
          "metadata": {},
          "output_type": "execute_result"
        }
      ],
      "source": [
        "df_cltv[\"customer_value\"] = df_cltv[\"average_order_value\"] * df_cltv[\"purchase_frequency\"]\n",
        "df_cltv.head()"
      ]
    },
    {
      "cell_type": "markdown",
      "id": "edd676d7",
      "metadata": {
        "id": "edd676d7"
      },
      "source": [
        "# Churn_Rate = 1 - Repeat_Rate"
      ]
    },
    {
      "cell_type": "code",
      "execution_count": null,
      "id": "6c129a13",
      "metadata": {
        "id": "6c129a13",
        "outputId": "dc710447-67ea-4407-8763-a2afe2a5bffd"
      },
      "outputs": [
        {
          "name": "stdout",
          "output_type": "stream",
          "text": [
            "Repeat Rate:  98.34063148190828\n",
            "Churn Rate:  1.6593685180917306\n"
          ]
        }
      ],
      "source": [
        "repeat_rate = df_cltv[df_cltv[\"total_transaction\"] > 1].shape[0] / df_cltv.shape[0]\n",
        "churn_rate = 1 - repeat_rate\n",
        "print(\"Repeat Rate: \", repeat_rate*100)\n",
        "print(\"Churn Rate: \", churn_rate*100)"
      ]
    },
    {
      "cell_type": "markdown",
      "id": "1806ba98",
      "metadata": {
        "id": "1806ba98"
      },
      "source": [
        "# Profit Margin"
      ]
    },
    {
      "cell_type": "code",
      "execution_count": null,
      "id": "255fb725",
      "metadata": {
        "id": "255fb725"
      },
      "outputs": [],
      "source": [
        "df_cltv[\"profit_margin\"] = df_cltv[\"total_price\"] * 0.05"
      ]
    },
    {
      "cell_type": "code",
      "execution_count": null,
      "id": "84f018b3",
      "metadata": {
        "id": "84f018b3",
        "outputId": "ed1f9b2b-7d0b-4ba2-dd8a-96bd139fd1b7"
      },
      "outputs": [
        {
          "data": {
            "text/html": [
              "<div>\n",
              "<style scoped>\n",
              "    .dataframe tbody tr th:only-of-type {\n",
              "        vertical-align: middle;\n",
              "    }\n",
              "\n",
              "    .dataframe tbody tr th {\n",
              "        vertical-align: top;\n",
              "    }\n",
              "\n",
              "    .dataframe thead th {\n",
              "        text-align: right;\n",
              "    }\n",
              "</style>\n",
              "<table border=\"1\" class=\"dataframe\">\n",
              "  <thead>\n",
              "    <tr style=\"text-align: right;\">\n",
              "      <th></th>\n",
              "      <th>total_transaction</th>\n",
              "      <th>total_unit</th>\n",
              "      <th>total_price</th>\n",
              "      <th>average_order_value</th>\n",
              "      <th>purchase_frequency</th>\n",
              "      <th>customer_value</th>\n",
              "      <th>profit_margin</th>\n",
              "      <th>CLTV</th>\n",
              "    </tr>\n",
              "    <tr>\n",
              "      <th>Customer ID</th>\n",
              "      <th></th>\n",
              "      <th></th>\n",
              "      <th></th>\n",
              "      <th></th>\n",
              "      <th></th>\n",
              "      <th></th>\n",
              "      <th></th>\n",
              "      <th></th>\n",
              "    </tr>\n",
              "  </thead>\n",
              "  <tbody>\n",
              "    <tr>\n",
              "      <th>12346.00</th>\n",
              "      <td>1</td>\n",
              "      <td>74215</td>\n",
              "      <td>77183.60</td>\n",
              "      <td>77183.60</td>\n",
              "      <td>0.00</td>\n",
              "      <td>17.79</td>\n",
              "      <td>3859.18</td>\n",
              "      <td>4137019.52</td>\n",
              "    </tr>\n",
              "    <tr>\n",
              "      <th>12347.00</th>\n",
              "      <td>182</td>\n",
              "      <td>2458</td>\n",
              "      <td>4310.00</td>\n",
              "      <td>23.68</td>\n",
              "      <td>0.04</td>\n",
              "      <td>0.99</td>\n",
              "      <td>215.50</td>\n",
              "      <td>12900.07</td>\n",
              "    </tr>\n",
              "    <tr>\n",
              "      <th>12348.00</th>\n",
              "      <td>31</td>\n",
              "      <td>2341</td>\n",
              "      <td>1797.24</td>\n",
              "      <td>57.98</td>\n",
              "      <td>0.01</td>\n",
              "      <td>0.41</td>\n",
              "      <td>89.86</td>\n",
              "      <td>2243.11</td>\n",
              "    </tr>\n",
              "    <tr>\n",
              "      <th>12349.00</th>\n",
              "      <td>73</td>\n",
              "      <td>631</td>\n",
              "      <td>1757.55</td>\n",
              "      <td>24.08</td>\n",
              "      <td>0.02</td>\n",
              "      <td>0.41</td>\n",
              "      <td>87.88</td>\n",
              "      <td>2145.13</td>\n",
              "    </tr>\n",
              "    <tr>\n",
              "      <th>12350.00</th>\n",
              "      <td>17</td>\n",
              "      <td>197</td>\n",
              "      <td>334.40</td>\n",
              "      <td>19.67</td>\n",
              "      <td>0.00</td>\n",
              "      <td>0.08</td>\n",
              "      <td>16.72</td>\n",
              "      <td>77.66</td>\n",
              "    </tr>\n",
              "  </tbody>\n",
              "</table>\n",
              "</div>"
            ],
            "text/plain": [
              "             total_transaction  total_unit  total_price  average_order_value  \\\n",
              "Customer ID                                                                    \n",
              "12346.00                     1       74215     77183.60             77183.60   \n",
              "12347.00                   182        2458      4310.00                23.68   \n",
              "12348.00                    31        2341      1797.24                57.98   \n",
              "12349.00                    73         631      1757.55                24.08   \n",
              "12350.00                    17         197       334.40                19.67   \n",
              "\n",
              "             purchase_frequency  customer_value  profit_margin       CLTV  \n",
              "Customer ID                                                                \n",
              "12346.00                   0.00           17.79        3859.18 4137019.52  \n",
              "12347.00                   0.04            0.99         215.50   12900.07  \n",
              "12348.00                   0.01            0.41          89.86    2243.11  \n",
              "12349.00                   0.02            0.41          87.88    2145.13  \n",
              "12350.00                   0.00            0.08          16.72      77.66  "
            ]
          },
          "execution_count": 15,
          "metadata": {},
          "output_type": "execute_result"
        }
      ],
      "source": [
        "# CLTV = (Customer_Value / Churn_Rate) x Profit_margin.\n",
        "df_cltv[\"CLTV\"] = (df_cltv[\"customer_value\"] / churn_rate) * df_cltv[\"profit_margin\"]\n",
        "df_cltv.head()"
      ]
    },
    {
      "cell_type": "markdown",
      "id": "fb6e3778",
      "metadata": {
        "id": "fb6e3778"
      },
      "source": [
        "# Segmentation"
      ]
    },
    {
      "cell_type": "code",
      "execution_count": null,
      "id": "8586e782",
      "metadata": {
        "id": "8586e782",
        "outputId": "14bb8aa9-ee1f-40ce-b6af-138ac1009f96"
      },
      "outputs": [
        {
          "data": {
            "text/html": [
              "<div>\n",
              "<style scoped>\n",
              "    .dataframe tbody tr th:only-of-type {\n",
              "        vertical-align: middle;\n",
              "    }\n",
              "\n",
              "    .dataframe tbody tr th {\n",
              "        vertical-align: top;\n",
              "    }\n",
              "\n",
              "    .dataframe thead th {\n",
              "        text-align: right;\n",
              "    }\n",
              "</style>\n",
              "<table border=\"1\" class=\"dataframe\">\n",
              "  <thead>\n",
              "    <tr style=\"text-align: right;\">\n",
              "      <th></th>\n",
              "      <th>total_price</th>\n",
              "      <th>CLTV</th>\n",
              "      <th>Segment</th>\n",
              "    </tr>\n",
              "    <tr>\n",
              "      <th>Customer ID</th>\n",
              "      <th></th>\n",
              "      <th></th>\n",
              "      <th></th>\n",
              "    </tr>\n",
              "  </thead>\n",
              "  <tbody>\n",
              "    <tr>\n",
              "      <th>12346.00</th>\n",
              "      <td>77183.60</td>\n",
              "      <td>4137019.52</td>\n",
              "      <td>A</td>\n",
              "    </tr>\n",
              "    <tr>\n",
              "      <th>14711.00</th>\n",
              "      <td>2868.80</td>\n",
              "      <td>5715.29</td>\n",
              "      <td>A</td>\n",
              "    </tr>\n",
              "    <tr>\n",
              "      <th>14769.00</th>\n",
              "      <td>10674.75</td>\n",
              "      <td>79132.14</td>\n",
              "      <td>A</td>\n",
              "    </tr>\n",
              "    <tr>\n",
              "      <th>14766.00</th>\n",
              "      <td>2473.37</td>\n",
              "      <td>4248.30</td>\n",
              "      <td>A</td>\n",
              "    </tr>\n",
              "    <tr>\n",
              "      <th>14755.00</th>\n",
              "      <td>5010.28</td>\n",
              "      <td>17432.57</td>\n",
              "      <td>A</td>\n",
              "    </tr>\n",
              "  </tbody>\n",
              "</table>\n",
              "</div>"
            ],
            "text/plain": [
              "             total_price       CLTV Segment\n",
              "Customer ID                                \n",
              "12346.00        77183.60 4137019.52       A\n",
              "14711.00         2868.80    5715.29       A\n",
              "14769.00        10674.75   79132.14       A\n",
              "14766.00         2473.37    4248.30       A\n",
              "14755.00         5010.28   17432.57       A"
            ]
          },
          "execution_count": 16,
          "metadata": {},
          "output_type": "execute_result"
        }
      ],
      "source": [
        "df_cltv[\"Segment\"] = pd.qcut(df_cltv[\"CLTV\"], 5, labels=[\"E\", \"D\", \"C\", \"B\", \"A\"])\n",
        "\n",
        "df_cltv[[\"total_price\", \"CLTV\", \"Segment\"]].sort_values(by=\"Segment\", ascending=False).head()"
      ]
    }
  ],
  "metadata": {
    "kernelspec": {
      "display_name": "Python 3 (ipykernel)",
      "language": "python",
      "name": "python3"
    },
    "language_info": {
      "codemirror_mode": {
        "name": "ipython",
        "version": 3
      },
      "file_extension": ".py",
      "mimetype": "text/x-python",
      "name": "python",
      "nbconvert_exporter": "python",
      "pygments_lexer": "ipython3",
      "version": "3.9.7"
    },
    "colab": {
      "provenance": []
    }
  },
  "nbformat": 4,
  "nbformat_minor": 5
}